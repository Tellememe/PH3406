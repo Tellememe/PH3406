{
 "cells": [
  {
   "cell_type": "code",
   "execution_count": 1,
   "id": "e890d782",
   "metadata": {},
   "outputs": [
    {
     "name": "stdout",
     "output_type": "stream",
     "text": [
      "Requirement already satisfied: qutip in ./opt/anaconda3/lib/python3.9/site-packages (4.6.2)\n",
      "Requirement already satisfied: numpy>=1.16.6 in ./opt/anaconda3/lib/python3.9/site-packages (from qutip) (1.20.3)\n",
      "Requirement already satisfied: scipy>=1.0 in ./opt/anaconda3/lib/python3.9/site-packages (from qutip) (1.7.1)\n",
      "Requirement already satisfied: packaging in ./opt/anaconda3/lib/python3.9/site-packages (from qutip) (21.0)\n",
      "Requirement already satisfied: pyparsing>=2.0.2 in ./opt/anaconda3/lib/python3.9/site-packages (from packaging->qutip) (3.0.4)\n"
     ]
    }
   ],
   "source": [
    "!pip install qutip"
   ]
  },
  {
   "cell_type": "code",
   "execution_count": 5,
   "id": "811cfc59",
   "metadata": {},
   "outputs": [
    {
     "data": {
      "application/vnd.jupyter.widget-view+json": {
       "model_id": "cb998b44d5fb4e72a0b5ca4b7ddf1f53",
       "version_major": 2,
       "version_minor": 0
      },
      "text/plain": [
       "interactive(children=(IntSlider(value=20, description='N: ', max=50, min=5), Output()), _dom_classes=('widget-…"
      ]
     },
     "metadata": {},
     "output_type": "display_data"
    },
    {
     "data": {
      "text/plain": [
       "<function __main__.plot_inversion_vs_gt(N)>"
      ]
     },
     "execution_count": 5,
     "metadata": {},
     "output_type": "execute_result"
    }
   ],
   "source": [
    "import numpy as np\n",
    "import matplotlib.pyplot as plt\n",
    "from qutip import *\n",
    "import ipywidgets as widgets\n",
    "from IPython.display import display\n",
    "\n",
    "# Define constants\n",
    "kB = 1.38e-23  # Boltzmann constant in Joules/Kelvin\n",
    "h = 6.626e-34  # Planck's constant in Joules*seconds\n",
    "T = 300.0  # temperature in Kelvin\n",
    "f = 2.45e9  # frequency in Hz\n",
    "\n",
    "# Calculate mean photon number based on temperature and frequency\n",
    "n_th = 1/(np.exp(h*f/(kB*T)) - 1)\n",
    "\n",
    "# Define parameters\n",
    "g = 1.0  # coupling strength\n",
    "w = 1.0  # atom and field frequency\n",
    "r = 0.0  # decay rate\n",
    "t_values = np.linspace(0, 50, 500)  # t values\n",
    "\n",
    "def plot_inversion_vs_gt(N):\n",
    "    # Initial state: atom in excited state, field in a thermal state with mean photon number n_th\n",
    "    psi0 = tensor(ket2dm(basis(2, 1)), thermal_dm(N, n_th))\n",
    "\n",
    "    # Jaynes-Cummings Hamiltonian\n",
    "    H = w * (tensor(sigmaz(), identity(N)) + tensor(identity(2), destroy(N) * create(N))) / 2.0 + g * (tensor(sigmap(), destroy(N)) + tensor(sigmam(), create(N)))\n",
    "\n",
    "    # Solve the master equation\n",
    "    result = mesolve(H, psi0, t_values, [np.sqrt(r) * tensor(identity(2), destroy(N))], [tensor(sigmaz(), identity(N))])\n",
    "\n",
    "    # Plot inversion as a function of g*t\n",
    "    plt.figure(figsize=(8, 6))\n",
    "    plt.plot(g * t_values, result.expect[0])\n",
    "    plt.xlabel('gt', fontsize=14)\n",
    "    plt.ylabel('Inversion', fontsize=14)\n",
    "    plt.title('Jaynes-Cummings Model: Inversion vs. gt', fontsize=16)\n",
    "    plt.grid(True)\n",
    "    plt.show()\n",
    "\n",
    "# Create a slider for N\n",
    "N_slider = widgets.IntSlider(min=5, max=50, step=1, value=20, description='N: ')\n",
    "\n",
    "# Create interactive plot\n",
    "widgets.interact(plot_inversion_vs_gt, N=N_slider)\n"
   ]
  },
  {
   "cell_type": "code",
   "execution_count": 3,
   "id": "864579e4",
   "metadata": {},
   "outputs": [
    {
     "data": {
      "application/vnd.jupyter.widget-view+json": {
       "model_id": "62d168fa3ad64919b74d1d971703e14a",
       "version_major": 2,
       "version_minor": 0
      },
      "text/plain": [
       "interactive(children=(IntSlider(value=20, description='N: ', max=50, min=5), Output()), _dom_classes=('widget-…"
      ]
     },
     "metadata": {},
     "output_type": "display_data"
    },
    {
     "data": {
      "text/plain": [
       "<function __main__.plot_inversion_vs_gt(N)>"
      ]
     },
     "execution_count": 3,
     "metadata": {},
     "output_type": "execute_result"
    }
   ],
   "source": [
    "import numpy as np\n",
    "import matplotlib.pyplot as plt\n",
    "from qutip import *\n",
    "import ipywidgets as widgets\n",
    "from IPython.display import display\n",
    "\n",
    "# Define constants\n",
    "kB = 1.38e-23  # Boltzmann constant in Joules/Kelvin\n",
    "h = 6.626e-34  # Planck's constant in Joules*seconds\n",
    "T = 300.0  # temperature in Kelvin\n",
    "f = 2.45e9  # frequency in Hz\n",
    "\n",
    "# Calculate mean photon number based on temperature and frequency\n",
    "n_th = 1\n",
    "\n",
    "# Define parameters\n",
    "g = 1.0  # coupling strength\n",
    "w = 1.0  # atom and field frequency\n",
    "r = 0.0  # decay rate\n",
    "t_values = np.linspace(0, 50, 500)  # t values\n",
    "\n",
    "def plot_inversion_vs_gt(N):\n",
    "    # Initial state: atom in excited state, field in a thermal state with mean photon number n_th\n",
    "    psi0 = tensor(ket2dm(basis(2, 1)), thermal_dm(N, n_th))\n",
    "\n",
    "    # Jaynes-Cummings Hamiltonian\n",
    "    H = w * (tensor(sigmaz(), identity(N)) + tensor(identity(2), destroy(N) * create(N))) / 2.0 + g * (tensor(sigmap(), destroy(N)) + tensor(sigmam(), create(N)))\n",
    "\n",
    "    # Solve the master equation\n",
    "    result = mesolve(H, psi0, t_values, [np.sqrt(r) * tensor(identity(2), destroy(N))], [tensor(sigmaz(), identity(N))])\n",
    "\n",
    "    # Plot inversion as a function of g*t\n",
    "    plt.figure(figsize=(8, 6))\n",
    "    plt.plot(g * t_values, result.expect[0])\n",
    "    plt.xlabel('gT', fontsize=14)\n",
    "    plt.ylabel('Inversion', fontsize=14)\n",
    "    plt.title('Jaynes-Cummings Model: Inversion vs. gT', fontsize=16)\n",
    "    plt.grid(True)\n",
    "    plt.show()\n",
    "\n",
    "# Create a slider for N\n",
    "N_slider = widgets.IntSlider(min=5, max=50, step=1, value=20, description='N: ')\n",
    "\n",
    "# Create interactive plot\n",
    "widgets.interact(plot_inversion_vs_gt, N=N_slider)\n"
   ]
  },
  {
   "cell_type": "code",
   "execution_count": null,
   "id": "997f9b8e",
   "metadata": {},
   "outputs": [],
   "source": []
  }
 ],
 "metadata": {
  "kernelspec": {
   "display_name": "Python 3 (ipykernel)",
   "language": "python",
   "name": "python3"
  },
  "language_info": {
   "codemirror_mode": {
    "name": "ipython",
    "version": 3
   },
   "file_extension": ".py",
   "mimetype": "text/x-python",
   "name": "python",
   "nbconvert_exporter": "python",
   "pygments_lexer": "ipython3",
   "version": "3.9.7"
  }
 },
 "nbformat": 4,
 "nbformat_minor": 5
}
